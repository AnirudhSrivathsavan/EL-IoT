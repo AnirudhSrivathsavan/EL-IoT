{
 "cells": [
  {
   "cell_type": "markdown",
   "metadata": {},
   "source": [
    "**Prerequisits**"
   ]
  },
  {
   "cell_type": "code",
   "execution_count": 69,
   "metadata": {},
   "outputs": [
    {
     "name": "stdout",
     "output_type": "stream",
     "text": [
      "Requirement already satisfied: pandas in c:\\xampp\\htdocs\\fl-iot\\.venv\\lib\\site-packages (2.1.3)\n",
      "Requirement already satisfied: numpy<2,>=1.23.2 in c:\\xampp\\htdocs\\fl-iot\\.venv\\lib\\site-packages (from pandas) (1.26.2)\n",
      "Requirement already satisfied: python-dateutil>=2.8.2 in c:\\xampp\\htdocs\\fl-iot\\.venv\\lib\\site-packages (from pandas) (2.8.2)\n",
      "Requirement already satisfied: pytz>=2020.1 in c:\\xampp\\htdocs\\fl-iot\\.venv\\lib\\site-packages (from pandas) (2023.3.post1)\n",
      "Requirement already satisfied: tzdata>=2022.1 in c:\\xampp\\htdocs\\fl-iot\\.venv\\lib\\site-packages (from pandas) (2023.3)\n",
      "Requirement already satisfied: six>=1.5 in c:\\xampp\\htdocs\\fl-iot\\.venv\\lib\\site-packages (from python-dateutil>=2.8.2->pandas) (1.16.0)\n",
      "Note: you may need to restart the kernel to use updated packages.\n",
      "Requirement already satisfied: jinja2 in c:\\xampp\\htdocs\\fl-iot\\.venv\\lib\\site-packages (3.1.2)\n",
      "Requirement already satisfied: MarkupSafe>=2.0 in c:\\xampp\\htdocs\\fl-iot\\.venv\\lib\\site-packages (from jinja2) (2.1.3)\n",
      "Note: you may need to restart the kernel to use updated packages.\n",
      "Requirement already satisfied: scikit-learn in c:\\xampp\\htdocs\\fl-iot\\.venv\\lib\\site-packages (1.3.2)\n",
      "Requirement already satisfied: numpy<2.0,>=1.17.3 in c:\\xampp\\htdocs\\fl-iot\\.venv\\lib\\site-packages (from scikit-learn) (1.26.2)\n",
      "Requirement already satisfied: scipy>=1.5.0 in c:\\xampp\\htdocs\\fl-iot\\.venv\\lib\\site-packages (from scikit-learn) (1.11.4)\n",
      "Requirement already satisfied: joblib>=1.1.1 in c:\\xampp\\htdocs\\fl-iot\\.venv\\lib\\site-packages (from scikit-learn) (1.3.2)\n",
      "Requirement already satisfied: threadpoolctl>=2.0.0 in c:\\xampp\\htdocs\\fl-iot\\.venv\\lib\\site-packages (from scikit-learn) (3.2.0)\n",
      "Note: you may need to restart the kernel to use updated packages.\n",
      "Collecting seabornNote: you may need to restart the kernel to use updated packages.\n",
      "\n",
      "  Downloading seaborn-0.13.0-py3-none-any.whl.metadata (5.3 kB)\n",
      "Requirement already satisfied: numpy!=1.24.0,>=1.20 in c:\\xampp\\htdocs\\fl-iot\\.venv\\lib\\site-packages (from seaborn) (1.26.2)\n",
      "Requirement already satisfied: pandas>=1.2 in c:\\xampp\\htdocs\\fl-iot\\.venv\\lib\\site-packages (from seaborn) (2.1.3)\n",
      "Collecting matplotlib!=3.6.1,>=3.3 (from seaborn)\n",
      "  Downloading matplotlib-3.8.2-cp311-cp311-win_amd64.whl.metadata (5.9 kB)\n",
      "Collecting contourpy>=1.0.1 (from matplotlib!=3.6.1,>=3.3->seaborn)\n",
      "  Downloading contourpy-1.2.0-cp311-cp311-win_amd64.whl.metadata (5.8 kB)\n",
      "Collecting cycler>=0.10 (from matplotlib!=3.6.1,>=3.3->seaborn)\n",
      "  Downloading cycler-0.12.1-py3-none-any.whl.metadata (3.8 kB)\n",
      "Collecting fonttools>=4.22.0 (from matplotlib!=3.6.1,>=3.3->seaborn)\n",
      "  Downloading fonttools-4.45.0-cp311-cp311-win_amd64.whl.metadata (158 kB)\n",
      "     ---------------------------------------- 0.0/158.1 kB ? eta -:--:--\n",
      "     ---------------------------------------- 0.0/158.1 kB ? eta -:--:--\n",
      "     --------------------------- ---------- 112.6/158.1 kB 3.3 MB/s eta 0:00:01\n",
      "     -------------------------------------- 158.1/158.1 kB 3.1 MB/s eta 0:00:00\n",
      "Collecting kiwisolver>=1.3.1 (from matplotlib!=3.6.1,>=3.3->seaborn)\n",
      "  Downloading kiwisolver-1.4.5-cp311-cp311-win_amd64.whl.metadata (6.5 kB)\n",
      "Requirement already satisfied: packaging>=20.0 in c:\\xampp\\htdocs\\fl-iot\\.venv\\lib\\site-packages (from matplotlib!=3.6.1,>=3.3->seaborn) (23.2)\n",
      "Collecting pillow>=8 (from matplotlib!=3.6.1,>=3.3->seaborn)\n",
      "  Downloading Pillow-10.1.0-cp311-cp311-win_amd64.whl.metadata (9.6 kB)\n",
      "Collecting pyparsing>=2.3.1 (from matplotlib!=3.6.1,>=3.3->seaborn)\n",
      "  Downloading pyparsing-3.1.1-py3-none-any.whl.metadata (5.1 kB)\n",
      "Requirement already satisfied: python-dateutil>=2.7 in c:\\xampp\\htdocs\\fl-iot\\.venv\\lib\\site-packages (from matplotlib!=3.6.1,>=3.3->seaborn) (2.8.2)\n",
      "Requirement already satisfied: pytz>=2020.1 in c:\\xampp\\htdocs\\fl-iot\\.venv\\lib\\site-packages (from pandas>=1.2->seaborn) (2023.3.post1)\n",
      "Requirement already satisfied: tzdata>=2022.1 in c:\\xampp\\htdocs\\fl-iot\\.venv\\lib\\site-packages (from pandas>=1.2->seaborn) (2023.3)\n",
      "Requirement already satisfied: six>=1.5 in c:\\xampp\\htdocs\\fl-iot\\.venv\\lib\\site-packages (from python-dateutil>=2.7->matplotlib!=3.6.1,>=3.3->seaborn) (1.16.0)\n",
      "Downloading seaborn-0.13.0-py3-none-any.whl (294 kB)\n",
      "   ---------------------------------------- 0.0/294.6 kB ? eta -:--:--\n",
      "   ----------------------- ---------------- 174.1/294.6 kB 5.1 MB/s eta 0:00:01\n",
      "   -------------------------- ------------- 194.6/294.6 kB 5.8 MB/s eta 0:00:01\n",
      "   ---------------------------------------- 294.6/294.6 kB 2.6 MB/s eta 0:00:00\n",
      "Downloading matplotlib-3.8.2-cp311-cp311-win_amd64.whl (7.6 MB)\n",
      "   ---------------------------------------- 0.0/7.6 MB ? eta -:--:--\n",
      "   - -------------------------------------- 0.3/7.6 MB 8.3 MB/s eta 0:00:01\n",
      "   - -------------------------------------- 0.3/7.6 MB 8.3 MB/s eta 0:00:01\n",
      "   --- ------------------------------------ 0.6/7.6 MB 4.5 MB/s eta 0:00:02\n",
      "   --- ------------------------------------ 0.6/7.6 MB 4.5 MB/s eta 0:00:02\n",
      "   ---- ----------------------------------- 0.9/7.6 MB 4.2 MB/s eta 0:00:02\n",
      "   ----- ---------------------------------- 1.0/7.6 MB 3.8 MB/s eta 0:00:02\n",
      "   ------ --------------------------------- 1.2/7.6 MB 3.7 MB/s eta 0:00:02\n",
      "   ------- -------------------------------- 1.4/7.6 MB 4.0 MB/s eta 0:00:02\n",
      "   ------- -------------------------------- 1.4/7.6 MB 4.0 MB/s eta 0:00:02\n",
      "   -------- ------------------------------- 1.7/7.6 MB 3.9 MB/s eta 0:00:02\n",
      "   --------- ------------------------------ 1.8/7.6 MB 3.9 MB/s eta 0:00:02\n",
      "   ----------- ---------------------------- 2.1/7.6 MB 4.1 MB/s eta 0:00:02\n",
      "   ----------- ---------------------------- 2.2/7.6 MB 3.9 MB/s eta 0:00:02\n",
      "   ------------- -------------------------- 2.5/7.6 MB 4.0 MB/s eta 0:00:02\n",
      "   ------------- -------------------------- 2.6/7.6 MB 3.9 MB/s eta 0:00:02\n",
      "   ------------- -------------------------- 2.7/7.6 MB 3.7 MB/s eta 0:00:02\n",
      "   --------------- ------------------------ 3.0/7.6 MB 4.0 MB/s eta 0:00:02\n",
      "   --------------- ------------------------ 3.0/7.6 MB 4.0 MB/s eta 0:00:02\n",
      "   ------------------ --------------------- 3.5/7.6 MB 4.1 MB/s eta 0:00:02\n",
      "   ------------------ --------------------- 3.5/7.6 MB 4.1 MB/s eta 0:00:02\n",
      "   -------------------- ------------------- 3.9/7.6 MB 4.1 MB/s eta 0:00:01\n",
      "   -------------------- ------------------- 4.0/7.6 MB 4.2 MB/s eta 0:00:01\n",
      "   ---------------------- ----------------- 4.4/7.6 MB 4.2 MB/s eta 0:00:01\n",
      "   ----------------------- ---------------- 4.6/7.6 MB 4.3 MB/s eta 0:00:01\n",
      "   ------------------------ --------------- 4.7/7.6 MB 4.2 MB/s eta 0:00:01\n",
      "   -------------------------- ------------- 5.0/7.6 MB 4.3 MB/s eta 0:00:01\n",
      "   -------------------------- ------------- 5.1/7.6 MB 4.1 MB/s eta 0:00:01\n",
      "   ----------------------------- ---------- 5.6/7.6 MB 4.4 MB/s eta 0:00:01\n",
      "   ----------------------------- ---------- 5.6/7.6 MB 4.4 MB/s eta 0:00:01\n",
      "   ------------------------------- -------- 6.1/7.6 MB 4.5 MB/s eta 0:00:01\n",
      "   ------------------------------- -------- 6.1/7.6 MB 4.5 MB/s eta 0:00:01\n",
      "   ---------------------------------- ----- 6.6/7.6 MB 4.6 MB/s eta 0:00:01\n",
      "   ----------------------------------- ---- 6.7/7.6 MB 4.6 MB/s eta 0:00:01\n",
      "   -------------------------------------- - 7.3/7.6 MB 4.7 MB/s eta 0:00:01\n",
      "   -------------------------------------- - 7.3/7.6 MB 4.7 MB/s eta 0:00:01\n",
      "   -------------------------------------- - 7.4/7.6 MB 4.5 MB/s eta 0:00:01\n",
      "   ---------------------------------------  7.6/7.6 MB 4.6 MB/s eta 0:00:01\n",
      "   ---------------------------------------- 7.6/7.6 MB 4.5 MB/s eta 0:00:00\n",
      "Downloading contourpy-1.2.0-cp311-cp311-win_amd64.whl (187 kB)\n",
      "   ---------------------------------------- 0.0/187.6 kB ? eta -:--:--\n",
      "   ------------------------ --------------- 112.6/187.6 kB 6.4 MB/s eta 0:00:01\n",
      "   ---------------------------------------- 187.6/187.6 kB 2.3 MB/s eta 0:00:00\n",
      "Downloading cycler-0.12.1-py3-none-any.whl (8.3 kB)\n",
      "Downloading fonttools-4.45.0-cp311-cp311-win_amd64.whl (2.2 MB)\n",
      "   ---------------------------------------- 0.0/2.2 MB ? eta -:--:--\n",
      "   ------------ --------------------------- 0.7/2.2 MB 20.5 MB/s eta 0:00:01\n",
      "   ------------ --------------------------- 0.7/2.2 MB 20.5 MB/s eta 0:00:01\n",
      "   ------------------------ --------------- 1.3/2.2 MB 11.8 MB/s eta 0:00:01\n",
      "   ------------------------ --------------- 1.3/2.2 MB 9.4 MB/s eta 0:00:01\n",
      "   ------------------------------------- -- 2.0/2.2 MB 9.2 MB/s eta 0:00:01\n",
      "   ---------------------------------------  2.1/2.2 MB 8.5 MB/s eta 0:00:01\n",
      "   ---------------------------------------- 2.2/2.2 MB 6.9 MB/s eta 0:00:00\n",
      "Downloading kiwisolver-1.4.5-cp311-cp311-win_amd64.whl (56 kB)\n",
      "   ---------------------------------------- 0.0/56.1 kB ? eta -:--:--\n",
      "   ---------------------------------------- 56.1/56.1 kB 2.9 MB/s eta 0:00:00\n",
      "Downloading Pillow-10.1.0-cp311-cp311-win_amd64.whl (2.6 MB)\n",
      "   ---------------------------------------- 0.0/2.6 MB ? eta -:--:--\n",
      "   ----- ---------------------------------- 0.3/2.6 MB 21.2 MB/s eta 0:00:01\n",
      "   ------------ --------------------------- 0.8/2.6 MB 10.1 MB/s eta 0:00:01\n",
      "   ------------------ --------------------- 1.2/2.6 MB 10.7 MB/s eta 0:00:01\n",
      "   -------------------------- ------------- 1.7/2.6 MB 10.1 MB/s eta 0:00:01\n",
      "   --------------------------------- ------ 2.2/2.6 MB 9.8 MB/s eta 0:00:01\n",
      "   ---------------------------------- ----- 2.3/2.6 MB 8.5 MB/s eta 0:00:01\n",
      "   ---------------------------------------- 2.6/2.6 MB 8.8 MB/s eta 0:00:00\n",
      "Downloading pyparsing-3.1.1-py3-none-any.whl (103 kB)\n",
      "   ---------------------------------------- 0.0/103.1 kB ? eta -:--:--\n",
      "   ---------------------------------------- 103.1/103.1 kB 6.2 MB/s eta 0:00:00\n",
      "Installing collected packages: pyparsing, pillow, kiwisolver, fonttools, cycler, contourpy, matplotlib, seaborn\n",
      "Successfully installed contourpy-1.2.0 cycler-0.12.1 fonttools-4.45.0 kiwisolver-1.4.5 matplotlib-3.8.2 pillow-10.1.0 pyparsing-3.1.1 seaborn-0.13.0\n",
      "Requirement already satisfied: matplotlib in c:\\xampp\\htdocs\\fl-iot\\.venv\\lib\\site-packages (3.8.2)\n",
      "Requirement already satisfied: contourpy>=1.0.1 in c:\\xampp\\htdocs\\fl-iot\\.venv\\lib\\site-packages (from matplotlib) (1.2.0)\n",
      "Requirement already satisfied: cycler>=0.10 in c:\\xampp\\htdocs\\fl-iot\\.venv\\lib\\site-packages (from matplotlib) (0.12.1)\n",
      "Requirement already satisfied: fonttools>=4.22.0 in c:\\xampp\\htdocs\\fl-iot\\.venv\\lib\\site-packages (from matplotlib) (4.45.0)\n",
      "Requirement already satisfied: kiwisolver>=1.3.1 in c:\\xampp\\htdocs\\fl-iot\\.venv\\lib\\site-packages (from matplotlib) (1.4.5)\n",
      "Requirement already satisfied: numpy<2,>=1.21 in c:\\xampp\\htdocs\\fl-iot\\.venv\\lib\\site-packages (from matplotlib) (1.26.2)\n",
      "Requirement already satisfied: packaging>=20.0 in c:\\xampp\\htdocs\\fl-iot\\.venv\\lib\\site-packages (from matplotlib) (23.2)\n",
      "Requirement already satisfied: pillow>=8 in c:\\xampp\\htdocs\\fl-iot\\.venv\\lib\\site-packages (from matplotlib) (10.1.0)\n",
      "Requirement already satisfied: pyparsing>=2.3.1 in c:\\xampp\\htdocs\\fl-iot\\.venv\\lib\\site-packages (from matplotlib) (3.1.1)\n",
      "Requirement already satisfied: python-dateutil>=2.7 in c:\\xampp\\htdocs\\fl-iot\\.venv\\lib\\site-packages (from matplotlib) (2.8.2)\n",
      "Requirement already satisfied: six>=1.5 in c:\\xampp\\htdocs\\fl-iot\\.venv\\lib\\site-packages (from python-dateutil>=2.7->matplotlib) (1.16.0)\n",
      "Note: you may need to restart the kernel to use updated packages.\n"
     ]
    }
   ],
   "source": [
    "%pip install pandas\n",
    "%pip install jinja2\n",
    "%pip install scikit-learn\n",
    "%pip install seaborn\n",
    "%pip install matplotlib"
   ]
  },
  {
   "cell_type": "markdown",
   "metadata": {},
   "source": [
    "**Imports**"
   ]
  },
  {
   "cell_type": "code",
   "execution_count": 75,
   "metadata": {},
   "outputs": [],
   "source": [
    "import pandas as pd\n",
    "import joblib\n",
    "from IPython.display import display, HTML\n",
    "from sklearn.model_selection import train_test_split\n",
    "from sklearn.feature_extraction.text import CountVectorizer\n",
    "\n",
    "from sklearn.metrics import accuracy_score, classification_report, confusion_matrix, roc_curve, auc, precision_recall_curve\n",
    "import seaborn as sns\n",
    "import matplotlib.pyplot as plt\n",
    "\n",
    "from sklearn.naive_bayes import MultinomialNB"
   ]
  },
  {
   "cell_type": "markdown",
   "metadata": {},
   "source": [
    "**Loading and cleaning datasets**"
   ]
  },
  {
   "cell_type": "code",
   "execution_count": 44,
   "metadata": {},
   "outputs": [
    {
     "data": {
      "text/html": [
       "<style type=\"text/css\">\n",
       "#T_7835b_row0_col0, #T_7835b_row0_col1, #T_7835b_row1_col0, #T_7835b_row1_col1, #T_7835b_row2_col0, #T_7835b_row2_col1, #T_7835b_row3_col0, #T_7835b_row3_col1, #T_7835b_row4_col0, #T_7835b_row4_col1 {\n",
       "  font-weight: bold;\n",
       "  text-align: left;\n",
       "  color: red;\n",
       "}\n",
       "</style>\n",
       "<table id=\"T_7835b\">\n",
       "  <thead>\n",
       "    <tr>\n",
       "      <th class=\"blank level0\" >&nbsp;</th>\n",
       "      <th id=\"T_7835b_level0_col0\" class=\"col_heading level0 col0\" >Query</th>\n",
       "      <th id=\"T_7835b_level0_col1\" class=\"col_heading level0 col1\" >Label</th>\n",
       "    </tr>\n",
       "  </thead>\n",
       "  <tbody>\n",
       "    <tr>\n",
       "      <th id=\"T_7835b_level0_row0\" class=\"row_heading level0 row0\" >0</th>\n",
       "      <td id=\"T_7835b_row0_col0\" class=\"data row0 col0\" >\" or pg_sleep  (  __TIME__  )  --</td>\n",
       "      <td id=\"T_7835b_row0_col1\" class=\"data row0 col1\" >1</td>\n",
       "    </tr>\n",
       "    <tr>\n",
       "      <th id=\"T_7835b_level0_row1\" class=\"row_heading level0 row1\" >1</th>\n",
       "      <td id=\"T_7835b_row1_col0\" class=\"data row1 col0\" >create user name identified by pass123 temporary tablespace temp default tablespace users;</td>\n",
       "      <td id=\"T_7835b_row1_col1\" class=\"data row1 col1\" >1</td>\n",
       "    </tr>\n",
       "    <tr>\n",
       "      <th id=\"T_7835b_level0_row2\" class=\"row_heading level0 row2\" >2</th>\n",
       "      <td id=\"T_7835b_row2_col0\" class=\"data row2 col0\" > AND 1  =  utl_inaddr.get_host_address   (    (   SELECT DISTINCT  (  table_name  )   FROM   (  SELECT DISTINCT  (  table_name  )  , ROWNUM AS LIMIT FROM sys.all_tables  )   WHERE LIMIT  =  5   )    )    AND 'i'  =  'i</td>\n",
       "      <td id=\"T_7835b_row2_col1\" class=\"data row2 col1\" >1</td>\n",
       "    </tr>\n",
       "    <tr>\n",
       "      <th id=\"T_7835b_level0_row3\" class=\"row_heading level0 row3\" >3</th>\n",
       "      <td id=\"T_7835b_row3_col0\" class=\"data row3 col0\" > select * from users where id  =  '1' or @ @1  =  1 union select 1,version  (    )   -- 1'</td>\n",
       "      <td id=\"T_7835b_row3_col1\" class=\"data row3 col1\" >1</td>\n",
       "    </tr>\n",
       "    <tr>\n",
       "      <th id=\"T_7835b_level0_row4\" class=\"row_heading level0 row4\" >4</th>\n",
       "      <td id=\"T_7835b_row4_col0\" class=\"data row4 col0\" > select * from users where id  =  1 or 1#\"  (   union select 1,version  (    )   -- 1</td>\n",
       "      <td id=\"T_7835b_row4_col1\" class=\"data row4 col1\" >1</td>\n",
       "    </tr>\n",
       "  </tbody>\n",
       "</table>\n"
      ],
      "text/plain": [
       "<pandas.io.formats.style.Styler at 0x1d6d982f950>"
      ]
     },
     "metadata": {},
     "output_type": "display_data"
    },
    {
     "data": {
      "text/html": [
       "<hr>"
      ],
      "text/plain": [
       "<IPython.core.display.HTML object>"
      ]
     },
     "metadata": {},
     "output_type": "display_data"
    },
    {
     "name": "stdout",
     "output_type": "stream",
     "text": [
      "<class 'pandas.core.frame.DataFrame'>\n",
      "Index: 30907 entries, 0 to 30918\n",
      "Data columns (total 2 columns):\n",
      " #   Column  Non-Null Count  Dtype \n",
      "---  ------  --------------  ----- \n",
      " 0   Query   30907 non-null  object\n",
      " 1   Label   30907 non-null  int64 \n",
      "dtypes: int64(1), object(1)\n",
      "memory usage: 724.4+ KB\n"
     ]
    },
    {
     "data": {
      "text/html": [
       "<hr>"
      ],
      "text/plain": [
       "<IPython.core.display.HTML object>"
      ]
     },
     "metadata": {},
     "output_type": "display_data"
    },
    {
     "data": {
      "text/html": [
       "<style type=\"text/css\">\n",
       "#T_0af4f_row0_col0, #T_0af4f_row1_col0, #T_0af4f_row2_col0, #T_0af4f_row3_col0, #T_0af4f_row4_col0, #T_0af4f_row5_col0, #T_0af4f_row6_col0, #T_0af4f_row7_col0 {\n",
       "  text-align: center;\n",
       "}\n",
       "</style>\n",
       "<table id=\"T_0af4f\">\n",
       "  <thead>\n",
       "    <tr>\n",
       "      <th class=\"blank level0\" >&nbsp;</th>\n",
       "      <th id=\"T_0af4f_level0_col0\" class=\"col_heading level0 col0\" >Label</th>\n",
       "    </tr>\n",
       "  </thead>\n",
       "  <tbody>\n",
       "    <tr>\n",
       "      <th id=\"T_0af4f_level0_row0\" class=\"row_heading level0 row0\" >count</th>\n",
       "      <td id=\"T_0af4f_row0_col0\" class=\"data row0 col0\" >30907.000000</td>\n",
       "    </tr>\n",
       "    <tr>\n",
       "      <th id=\"T_0af4f_level0_row1\" class=\"row_heading level0 row1\" >mean</th>\n",
       "      <td id=\"T_0af4f_row1_col0\" class=\"data row1 col0\" >0.368137</td>\n",
       "    </tr>\n",
       "    <tr>\n",
       "      <th id=\"T_0af4f_level0_row2\" class=\"row_heading level0 row2\" >std</th>\n",
       "      <td id=\"T_0af4f_row2_col0\" class=\"data row2 col0\" >0.482307</td>\n",
       "    </tr>\n",
       "    <tr>\n",
       "      <th id=\"T_0af4f_level0_row3\" class=\"row_heading level0 row3\" >min</th>\n",
       "      <td id=\"T_0af4f_row3_col0\" class=\"data row3 col0\" >0.000000</td>\n",
       "    </tr>\n",
       "    <tr>\n",
       "      <th id=\"T_0af4f_level0_row4\" class=\"row_heading level0 row4\" >25%</th>\n",
       "      <td id=\"T_0af4f_row4_col0\" class=\"data row4 col0\" >0.000000</td>\n",
       "    </tr>\n",
       "    <tr>\n",
       "      <th id=\"T_0af4f_level0_row5\" class=\"row_heading level0 row5\" >50%</th>\n",
       "      <td id=\"T_0af4f_row5_col0\" class=\"data row5 col0\" >0.000000</td>\n",
       "    </tr>\n",
       "    <tr>\n",
       "      <th id=\"T_0af4f_level0_row6\" class=\"row_heading level0 row6\" >75%</th>\n",
       "      <td id=\"T_0af4f_row6_col0\" class=\"data row6 col0\" >1.000000</td>\n",
       "    </tr>\n",
       "    <tr>\n",
       "      <th id=\"T_0af4f_level0_row7\" class=\"row_heading level0 row7\" >max</th>\n",
       "      <td id=\"T_0af4f_row7_col0\" class=\"data row7 col0\" >1.000000</td>\n",
       "    </tr>\n",
       "  </tbody>\n",
       "</table>\n"
      ],
      "text/plain": [
       "<pandas.io.formats.style.Styler at 0x1d6d991b350>"
      ]
     },
     "execution_count": 44,
     "metadata": {},
     "output_type": "execute_result"
    }
   ],
   "source": [
    "file_path = \"dataset\\\\SQL_Dataset.csv\"\n",
    "df = pd.read_csv(file_path)\n",
    "df= df.dropna()\n",
    "df=df.drop_duplicates()\n",
    "display(df.head().style.map(lambda x: 'font-weight: bold;text-align: left;color: red;'))\n",
    "display(HTML(\"<hr>\"))\n",
    "df.info()\n",
    "display(HTML(\"<hr>\"))\n",
    "df.describe().style.map(lambda x: 'text-align: center;')"
   ]
  },
  {
   "cell_type": "markdown",
   "metadata": {},
   "source": [
    "**Splitting dataset**"
   ]
  },
  {
   "cell_type": "code",
   "execution_count": 63,
   "metadata": {},
   "outputs": [
    {
     "data": {
      "text/html": [
       "<h2>X_train (Training Data):</h2>"
      ],
      "text/plain": [
       "<IPython.core.display.HTML object>"
      ]
     },
     "metadata": {},
     "output_type": "display_data"
    },
    {
     "data": {
      "text/plain": [
       "11322    -8609%\"   )    )     )   union all select 6021...\n",
       "6926                               -6546\"  )   order by 1#\n",
       "29671    SELECT AVG ( thick )  FROM hall  SELECT SUM ( ...\n",
       "9403     1\"   )    )     )   and   (  7396  =  6351  ) ...\n",
       "15044                                              sojuela\n",
       "Name: Query, dtype: object"
      ]
     },
     "metadata": {},
     "output_type": "display_data"
    },
    {
     "data": {
      "text/html": [
       "<hr>"
      ],
      "text/plain": [
       "<IPython.core.display.HTML object>"
      ]
     },
     "metadata": {},
     "output_type": "display_data"
    },
    {
     "data": {
      "text/html": [
       "<h2>X_test (Testing Data):</h2>"
      ],
      "text/plain": [
       "<IPython.core.display.HTML object>"
      ]
     },
     "metadata": {},
     "output_type": "display_data"
    },
    {
     "data": {
      "text/plain": [
       "2154     1\"   )    )    and   (  select * from   (  sel...\n",
       "19684    SELECT * FROM wp_posts WHERE ID  =  28694 LIMIT 1\n",
       "3877     1'  )   as uqkz where 8482  =  8482 and 8407  ...\n",
       "13708                                         madan deluca\n",
       "23058       SELECT * FROM  ( SELECT birds FROM attached ) \n",
       "Name: Query, dtype: object"
      ]
     },
     "metadata": {},
     "output_type": "display_data"
    },
    {
     "data": {
      "text/html": [
       "<hr>"
      ],
      "text/plain": [
       "<IPython.core.display.HTML object>"
      ]
     },
     "metadata": {},
     "output_type": "display_data"
    },
    {
     "data": {
      "text/html": [
       "<h2>y_train (Training Labels):</h2>"
      ],
      "text/plain": [
       "<IPython.core.display.HTML object>"
      ]
     },
     "metadata": {},
     "output_type": "display_data"
    },
    {
     "data": {
      "text/plain": [
       "11322    1\n",
       "6926     1\n",
       "29671    0\n",
       "9403     1\n",
       "15044    0\n",
       "Name: Label, dtype: int64"
      ]
     },
     "metadata": {},
     "output_type": "display_data"
    },
    {
     "data": {
      "text/html": [
       "<hr>"
      ],
      "text/plain": [
       "<IPython.core.display.HTML object>"
      ]
     },
     "metadata": {},
     "output_type": "display_data"
    },
    {
     "data": {
      "text/html": [
       "<h2>y_test (Testing Labels):</h2>"
      ],
      "text/plain": [
       "<IPython.core.display.HTML object>"
      ]
     },
     "metadata": {},
     "output_type": "display_data"
    },
    {
     "data": {
      "text/plain": [
       "2154     1\n",
       "19684    0\n",
       "3877     1\n",
       "13708    0\n",
       "23058    0\n",
       "Name: Label, dtype: int64"
      ]
     },
     "metadata": {},
     "output_type": "display_data"
    },
    {
     "data": {
      "text/html": [
       "<hr>"
      ],
      "text/plain": [
       "<IPython.core.display.HTML object>"
      ]
     },
     "metadata": {},
     "output_type": "display_data"
    }
   ],
   "source": [
    "X = df['Query']\n",
    "y = df['Label']\n",
    "X_train, X_test, y_train, y_test = train_test_split(X, y, test_size=0.2, random_state=42)\n",
    "\n",
    "display(HTML(\"<h2>X_train (Training Data):</h2>\"))\n",
    "display(X_train.head())\n",
    "display(HTML(\"<hr>\"))\n",
    "\n",
    "display(HTML(\"<h2>X_test (Testing Data):</h2>\"))\n",
    "display(X_test.head())\n",
    "display(HTML(\"<hr>\"))\n",
    "\n",
    "display(HTML(\"<h2>y_train (Training Labels):</h2>\"))\n",
    "display(y_train.head())\n",
    "display(HTML(\"<hr>\"))\n",
    "\n",
    "display(HTML(\"<h2>y_test (Testing Labels):</h2>\"))\n",
    "display(y_test.head())\n",
    "display(HTML(\"<hr>\"))\n"
   ]
  },
  {
   "cell_type": "markdown",
   "metadata": {},
   "source": [
    "## Multinomial Naïve Bayes"
   ]
  },
  {
   "cell_type": "code",
   "execution_count": 93,
   "metadata": {},
   "outputs": [
    {
     "name": "stdout",
     "output_type": "stream",
     "text": [
      "Accuracy: 0.973471368489162\n"
     ]
    },
    {
     "data": {
      "text/html": [
       "<hr>"
      ],
      "text/plain": [
       "<IPython.core.display.HTML object>"
      ]
     },
     "metadata": {},
     "output_type": "display_data"
    },
    {
     "name": "stdout",
     "output_type": "stream",
     "text": [
      "Confusion Matrix:\n",
      "[[3859   53]\n",
      " [ 111 2159]]\n"
     ]
    },
    {
     "data": {
      "text/html": [
       "<hr>"
      ],
      "text/plain": [
       "<IPython.core.display.HTML object>"
      ]
     },
     "metadata": {},
     "output_type": "display_data"
    },
    {
     "name": "stdout",
     "output_type": "stream",
     "text": [
      "Classification Report:\n",
      "              precision    recall  f1-score   support\n",
      "\n",
      "           0       0.97      0.99      0.98      3912\n",
      "           1       0.98      0.95      0.96      2270\n",
      "\n",
      "    accuracy                           0.97      6182\n",
      "   macro avg       0.97      0.97      0.97      6182\n",
      "weighted avg       0.97      0.97      0.97      6182\n",
      "\n"
     ]
    },
    {
     "data": {
      "text/html": [
       "<hr>Model saved"
      ],
      "text/plain": [
       "<IPython.core.display.HTML object>"
      ]
     },
     "metadata": {},
     "output_type": "display_data"
    }
   ],
   "source": [
    "vectorizer = CountVectorizer(ngram_range=(1, 4))\n",
    "X_train_vectorized = vectorizer.fit_transform(X_train)\n",
    "X_test_vectorized = vectorizer.transform(X_test)\n",
    "mnb_model = MultinomialNB()\n",
    "mnb_model.fit(X_train_vectorized, y_train)\n",
    "joblib.dump(mnb_model, 'models/mnb_model.joblib')\n",
    "\n",
    "# Make predictions on the test set\n",
    "y_pred = mnb_model.predict(X_test_vectorized)\n",
    "\n",
    "# Evaluate the model\n",
    "accuracy = accuracy_score(y_test, y_pred)\n",
    "conf_matrix = confusion_matrix(y_test, y_pred)\n",
    "classification_rep = classification_report(y_test, y_pred)\n",
    "\n",
    "# Display the results\n",
    "print(f\"Accuracy: {accuracy}\")\n",
    "display(HTML(\"<hr>\"))\n",
    "\n",
    "print(\"Confusion Matrix:\")\n",
    "print(conf_matrix)\n",
    "display(HTML(\"<hr>\"))\n",
    "\n",
    "print(\"Classification Report:\")\n",
    "print(classification_rep)\n",
    "display(HTML(\"<hr>Model saved\"))\n"
   ]
  },
  {
   "cell_type": "code",
   "execution_count": 94,
   "metadata": {},
   "outputs": [
    {
     "data": {
      "image/png": "[encoded data removed]",
      "text/plain": [
       "<Figure size 800x600 with 2 Axes>"
      ]
     },
     "metadata": {},
     "output_type": "display_data"
    },
    {
     "data": {
      "image/png": "[encoded data removed]",
      "text/plain": [
       "<Figure size 800x600 with 1 Axes>"
      ]
     },
     "metadata": {},
     "output_type": "display_data"
    }
   ],
   "source": [
    "plt.figure(figsize=(8, 6))\n",
    "sns.heatmap(conf_matrix, annot=True, fmt='d', cmap='Blues', xticklabels=mnb_model.classes_, yticklabels=mnb_model.classes_)\n",
    "plt.title('Confusion Matrix')\n",
    "plt.xlabel('Predicted Label')\n",
    "plt.ylabel('True Label')\n",
    "plt.show()\n",
    "\n",
    "y_prob = mnb_model.predict_proba(X_test_vectorized)\n",
    "\n",
    "# Compute ROC curve and AUC for each class\n",
    "fpr = dict()\n",
    "tpr = dict()\n",
    "roc_auc = dict()\n",
    "\n",
    "for i in range(len(mnb_model.classes_)):\n",
    "    fpr[i], tpr[i], _ = roc_curve((y_test == mnb_model.classes_[i]).astype(int), y_prob[:, i])\n",
    "    roc_auc[i] = auc(fpr[i], tpr[i])\n",
    "\n",
    "# Plot ROC curves\n",
    "plt.figure(figsize=(8, 6))\n",
    "\n",
    "for i in range(len(mnb_model.classes_)):\n",
    "    plt.plot(fpr[i], tpr[i], label=f'{mnb_model.classes_[i]} (AUC = {roc_auc[i]:.2f})')\n",
    "\n",
    "plt.plot([0, 1], [0, 1], linestyle='--', color='gray', label='Random')\n",
    "plt.title('ROC Curve')\n",
    "plt.xlabel('False Positive Rate')\n",
    "plt.ylabel('True Positive Rate')\n",
    "plt.legend()\n",
    "plt.show()"
   ]
  },
  {
   "cell_type": "markdown",
   "metadata": {},
   "source": [
    "## Bernoulli’s Naïve Bayes"
   ]
  },
  {
   "cell_type": "code",
   "execution_count": null,
   "metadata": {},
   "outputs": [],
   "source": []
  }
 ],
 "metadata": {
  "kernelspec": {
   "display_name": ".venv",
   "language": "python",
   "name": "python3"
  },
  "language_info": {
   "codemirror_mode": {
    "name": "ipython",
    "version": 3
   },
   "file_extension": ".py",
   "mimetype": "text/x-python",
   "name": "python",
   "nbconvert_exporter": "python",
   "pygments_lexer": "ipython3",
   "version": "3.11.2"
  }
 },
 "nbformat": 4,
 "nbformat_minor": 2
}
