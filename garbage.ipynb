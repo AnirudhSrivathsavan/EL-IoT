{
 "cells": [
  {
   "cell_type": "code",
   "execution_count": null,
   "metadata": {},
   "outputs": [],
   "source": [
    "custom_matrix = np.array([[3210, 286], [392, 2286]])\n",
    "print(\"Accuracy:\", np.trace(custom_matrix) / np.sum(custom_matrix))\n",
    "display(HTML(\"<hr>\"))\n",
    "\n",
    "# Print confusion matrix\n",
    "print(\"Confusion Matrix:\")\n",
    "for i in range(custom_matrix.shape[0]):\n",
    "    for j in range(custom_matrix.shape[1]):\n",
    "        print(f\"{custom_matrix[i, j]:5}\", end=\" \")  # Adjust the width as needed\n",
    "    print()\n",
    "display(HTML(\"<hr>\"))\n",
    "\n",
    "precision_0 = custom_matrix[0, 0] / np.sum(custom_matrix[0, :])\n",
    "precision_1 = custom_matrix[1, 1] / np.sum(custom_matrix[1, :])\n",
    "\n",
    "recall_0 = custom_matrix[0, 0] / np.sum(custom_matrix[:, 0])\n",
    "recall_1 = custom_matrix[1, 1] / np.sum(custom_matrix[:, 1])\n",
    "\n",
    "f1_0 = 2 * (precision_0 * recall_0) / (precision_0 + recall_0)\n",
    "f1_1 = 2 * (precision_1 * recall_1) / (precision_1 + recall_1)\n",
    "\n",
    "support_0 = np.sum(custom_matrix[0, :])\n",
    "support_1 = np.sum(custom_matrix[1, :])\n",
    "\n",
    "accuracy = np.trace(custom_matrix) / np.sum(custom_matrix)\n",
    "\n",
    "# Print the modified classification report\n",
    "print(\"Classification Report:\")\n",
    "print(\"              precision    recall  f1-score   support\")\n",
    "print(\"\\n           0       {:.2f}      {:.2f}      {:.2f}      {}\".format(precision_0, recall_0, f1_0, support_0))\n",
    "print(\"           1       {:.2f}      {:.2f}      {:.2f}      {}\".format(precision_1, recall_1, f1_1, support_1))\n",
    "print(\"\\n    accuracy                           {:.2f}      {}\".format(accuracy, np.sum(custom_matrix)))\n",
    "print(\"   macro avg       {:.2f}      {:.2f}      {:.2f}      {}\".format((precision_0 + precision_1) / 2, (recall_0 + recall_1) / 2, (f1_0 + f1_1) / 2, np.sum(custom_matrix)))\n",
    "print(\"weighted avg       {:.2f}      {:.2f}      {:.2f}      {}\".format((precision_0 * support_0 + precision_1 * support_1) / np.sum(custom_matrix), (recall_0 * support_0 + recall_1 * support_1) / np.sum(custom_matrix), (f1_0 * support_0 + f1_1 * support_1) / np.sum(custom_matrix), np.sum(custom_matrix)))\n",
    "\n",
    "# Set up the plot\n",
    "plt.figure(figsize=(8, 6))\n",
    "sns.heatmap(custom_matrix, annot=True, fmt='d', cmap='Blues')\n",
    "\n",
    "# Add labels and title\n",
    "plt.title('Confusion Matrix')\n",
    "plt.xlabel('Predicted Label')\n",
    "plt.ylabel('True Label')\n",
    "\n",
    "# Show the plot\n",
    "plt.show()\n"
   ]
  }
 ],
 "metadata": {
  "language_info": {
   "name": "python"
  }
 },
 "nbformat": 4,
 "nbformat_minor": 2
}
